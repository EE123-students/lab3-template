{
 "cells": [
  {
   "cell_type": "markdown",
   "metadata": {},
   "source": [
    "# Lab 3 part 2 - Broadcast FM\n",
    "\n",
    "Originally written by Miki Lustig.\n",
    "\n",
    "Updated by Josh Sanz in Spring 2020."
   ]
  },
  {
   "cell_type": "code",
   "execution_count": null,
   "metadata": {},
   "outputs": [],
   "source": [
    "\n",
    "import numpy as np, matplotlib.pyplot as plt\n",
    "import matplotlib\n",
    "from numpy import *\n",
    "from numpy.fft import *\n",
    "import scipy.signal as signal\n",
    "from matplotlib.pyplot import *\n",
    "from rtlsdr import RtlSdr\n",
    "import scipy\n",
    "import scipy.io\n",
    "from scipy.io.wavfile import write\n",
    "import sounddevice as sd\n",
    "import gc\n",
    "\n",
    "%matplotlib inline\n"
   ]
  },
  {
   "cell_type": "markdown",
   "metadata": {},
   "source": [
    "Below are some functions from Part I that we will need in this part"
   ]
  },
  {
   "cell_type": "code",
   "execution_count": null,
   "metadata": {},
   "outputs": [],
   "source": [
    "# set the default card to be the built-in raspberry-pi audio\n",
    "\n",
    "sd.default.device = 'bcm2835 ALSA: - (hw:0,0), ALSA'\n",
    "\n",
    "\n",
    "# Plot an image of the spectrogram y, with the axis labeled with time tl,\n",
    "# and frequency fl\n",
    "#\n",
    "# t_range -- time axis label, nt samples\n",
    "# f_range -- frequency axis label, nf samples\n",
    "# y -- spectrogram, nf by nt array\n",
    "# dbf -- Dynamic range of the spectrum\n",
    "\n",
    "def sg_plot( t_range, f_range, y, dbf = 60, fig = None) :\n",
    "    eps = 10.0**(-dbf/20.0)  # minimum signal\n",
    "    \n",
    "    # find maximum\n",
    "    y_max = abs(y).max()\n",
    "    \n",
    "    # compute 20*log magnitude, scaled to the max\n",
    "    y_log = 20.0 * np.log10( (abs( y ) / y_max)*(1-eps) + eps )\n",
    "    \n",
    "    # rescale image intensity to 256\n",
    "    img = 256*(y_log + dbf)/dbf - 1\n",
    "    \n",
    " \n",
    "    fig=figure(figsize=(8,4))\n",
    "    \n",
    "    plt.imshow( np.flipud( 64.0*(y_log + dbf)/dbf ), extent= t_range  + f_range ,cmap=plt.cm.gray, aspect='auto')\n",
    "    plt.xlabel('Time, s')\n",
    "    plt.ylabel('Frequency, Hz')\n",
    "    plt.tight_layout()\n",
    "    \n",
    "    return fig\n",
    "    \n",
    "    "
   ]
  },
  {
   "cell_type": "markdown",
   "metadata": {},
   "source": [
    "## Part II: Broadcast FM Radio\n"
   ]
  },
  {
   "cell_type": "markdown",
   "metadata": {},
   "source": [
    "### Task 5: Time-Frequency plots of the radio-frequency spectrum with the SDR."
   ]
  },
  {
   "cell_type": "markdown",
   "metadata": {},
   "source": [
    "The samples that are obtained by the SDR represent a bandwidth of the spectrum around a center frequency. Hence, when demodulating to base-band (i.e. zero frequency) the signal must be imaginary since it has a non symmetric Fourier transform. \n",
    "\n",
    "In this case, we would like to display both sides of the spectrum.\n",
    "\n",
    "- Modify the function `myspectrogram_hann_ovlp(x,m,fs,fc)` such that it detects whether the input signal `x` is complex. In that case, it will compute a double sided spectrum with frequency range centered around fc (center frequency). For this, it would be useful to use the commands: `isreal` and `fftshift`.\n"
   ]
  },
  {
   "cell_type": "markdown",
   "metadata": {},
   "source": [
    "### Solution:"
   ]
  },
  {
   "cell_type": "code",
   "execution_count": null,
   "metadata": {},
   "outputs": [],
   "source": [
    "def myspectrogram_hann_ovlp(x, m, fs, fc, dbf = 60, fig = None):\n",
    "    # Plot the spectrogram of x.\n",
    "    # First take the original signal x and split it into blocks of length m\n",
    "    \n",
    "    \n",
    "    \n",
    "    return fig"
   ]
  },
  {
   "cell_type": "markdown",
   "metadata": {},
   "source": [
    "We will first look at radio FM spectrum. In the US the broadcast FM radio band is  88.1-107.9Mhz. It is split into  200KHz slots. This is relatively a large bandwidth and therefore it is also called wideband FM as opposed to narrowband FM which can be as low as 5 Khz.  In FM radio the information is encoded by modulating the frequency of the carrier,  \n",
    "$$y_c(t) = A\\cos \\left (2\\pi f_c t + 2\\pi \\Delta f \\int_0^t x(\\tau) d\\tau \\right ).$$\n",
    "\n",
    "Here, $f_c$ is the carrier frequency,  $\\Delta f$ is a frequency deviation scaler and $x(t)$ is a normalized baseband signal, which contains all the information the station wants to broadcast. \n",
    "\n",
    "Recall from lab 1, that the instantanious frequency of a signal is the derivative of the phase. For the signal $$y_c(t) = A\\cos \\left (2\\pi f_c t + 2\\pi \\Delta f \\int_0^t x(\\tau) d\\tau \\right )$$, the phase is: $$\\phi(t) = 2\\pi f_c t + 2\\pi \\Delta f \\int_0^t x(\\tau) d\\tau$$ and its instantanious frequency is, $$f(t) = \\frac{1}{2\\pi}\\frac{d \\phi}{dt} = f_c + \\Delta f x(t)$$ -- which is exactly the signal we would like to transmit! \n",
    "\n",
    "\n",
    "\n",
    "\n",
    "\n",
    "\n",
    "\n",
    "The signal $x(t)$ is called the baseband signal. It has a frequency content spanning DC to about 100KHz. This is in contrast to the modulated FM signal which has a bandwidth of 200KHz (double sided spectrum) and is present at 88-108MHz. For broadcast FM the baseband signal includes stereo audio, as well as digital information on the station and sometimes additional narrow bandwidth subcarrier channels.\n",
    "More specifically, the broadcast FM baseband signal, $x(t)$, consists of mono (Left+Right) channels from 30Hz to 15 KHz, a pilot signal at $f_p=19$ KHz, amplitude modulated Stereo (Left - Right) channels around $2\\cdot f_p =  38$KHz and digital RBDS, which encodes the station information, song name etc.  at $3\\cdot f_p =57$KHz.  (See <http://en.wikipedia.org/wiki/FM_broadcasting> for more information). \n",
    "\n",
    "The baseband signal is:\n",
    "\n",
    "$ \\qquad \\qquad x(t) = \\underbrace{(L+R)}_{\\mathrm{mono}} + \\underbrace{0.1 \\cdot \\cos(2\\pi f_p t)}_\\mathrm{pilot} +  \\underbrace{(L-R)\\cos(2\\pi (2f_p) t)}_\\mathrm{stereo}  + \\underbrace{0.05\\cdot \\mathrm{RBDS}(t)\\cos(2\\pi (3f_p) t)}_\\mathrm{digital~ RBDS} + \\mathrm{subcarriers~signals}. $\n",
    "\n",
    "The signal $\\mathrm{RBDS}(t)$ is a $m(t)\\cos(2\\pi(3(f_p))$ where $m(t)$ is a binary signal consists of $\\pm1$ at constant intervals which encode 0, and 1 bits. The subcarriers are often FM modulated signals of foreign stations or carry other information.\n",
    "This is the spectrum of $x(t)$:\n",
    "\n",
    "<center><img src=\"FM.png\" alt=\"FM\" style=\"width: 800px;\"/></center>\n"
   ]
  },
  {
   "cell_type": "markdown",
   "metadata": {},
   "source": [
    "We will listen to our Berkeley own KPFA 94.1MHz station. KPFA transmitter is located close to Grizzly Peak Road, close to where it meets Claremont Ave.\n",
    "\n",
    "\n",
    "Recall that our SDR does IQ demodulation around a center frequency of choice, $f_d$, followed by a low-pass filter and sampling. This results in a complex digital signal: $$\\qquad \\qquad y_b(t) = Ae^{j2\\pi (f_c-f_d) t + j2\\pi \\Delta f \\int_0^t x(\\tau) d\\tau }.$$\n",
    "\n",
    "When $f_d=f_c$ we get:\n",
    "$$\\qquad \\qquad y_b(t) = Ae^{ j2\\pi \\Delta f \\int_0^t x(\\tau) d\\tau }.$$"
   ]
  },
  {
   "cell_type": "markdown",
   "metadata": {},
   "source": [
    "We will implement the following system to demodulate and listen to KPFA:\n",
    "<center><img src=\"fmdemod_LPR.png\" alt=\"FM\" style=\"width: 800px;\"/></center>"
   ]
  },
  {
   "cell_type": "markdown",
   "metadata": {},
   "source": [
    "We will provide details on each of these blocks below, but here's a brief overview:\n",
    "\n",
    "- The SDR will provide samples at a BW of 960KHz around the station frequency 94.1MHz\n",
    "- The station BW is only 200MHz, so we will create a low-pass filter to reject signals greater than $\\pm 100Khz$, and then decimate the sampling rate by 4 to reach a rate of 240KHz. \n",
    "- The limiter and the discriminator roll is to decode the frequency modulation and get our desired signal. The limiter gets rid of any undesired amplitude variation in the signal, and the discriminator converts frequency modulation into an amplitude one. More later!\n",
    "- Finally, after FM decoding, our desired signal occupies DC-16KHz. So we low-pass to reject all frequencies outside the band. Finally we decimate by 5 to change to the rate that can be played on the soundcard (48KHz)"
   ]
  },
  {
   "cell_type": "markdown",
   "metadata": {},
   "source": [
    "#### Signal Capture:\n",
    "\n",
    "Like always, you will get the best results if you collect samples outside. \n",
    "\n",
    "\n",
    "Task: \n",
    "- Set the SDR to sample at a center frequency of 94.1MHz (KPFA) and a rate of 960KHz. We will first Collect 480000 samples, which is exactly 1/2 seconds of data. We acquire only half a second  because computing a spectrogram on more data make take a while on some computers. \n",
    "- Compute and display a spectrogram with a window of 1024 samples. Include the spectrogram in your report. What is the spectral and temporal resolution? Explain what you see. \n",
    "\n",
    "Tips:\n",
    "- Don’t forget to play with different dynamic ranges of the spectrogram for best visualization. (40 worked well for me)\n",
    "- Make sure to set the gain of the SDR so the signal is not under/overloaded! This will make a HUGE difference when demodulating the carriers."
   ]
  },
  {
   "cell_type": "code",
   "execution_count": null,
   "metadata": {},
   "outputs": [],
   "source": [
    "fs = 960000\n",
    "fc = 94.1e6\n",
    "sdr = RtlSdr()\n",
    "sdr.sample_rate = fs    # sampling rate\n",
    "sdr.center_freq = fc   # center frequency\n",
    "sdr.gain = SET ME\n",
    "N_Samples = 480000\n",
    "data = sdr.read_samples(N_Samples)   # get samples\n",
    "sdr.close()"
   ]
  },
  {
   "cell_type": "code",
   "execution_count": null,
   "metadata": {
    "scrolled": true
   },
   "outputs": [],
   "source": [
    "# Plot. Plotting may take a while!\n",
    "\n"
   ]
  },
  {
   "cell_type": "markdown",
   "metadata": {},
   "source": [
    "#### Downsampling:\n",
    "\n",
    "The bandwidth of an FM station is 200KHz. Since we sampled at 960KHz, you may be seeing several stations in the spectrogram. KPFA, the station we are interested in is in the middle around 94.1MHz.  We will need to filter out and select the desired station from the rest of the signals within the spectrum. \n",
    "\n",
    "Task:\n",
    "- Design an FIR filter low-pass filter. The filter should be of  length 128 and the cutoff frequency be 100KHz. This will select the frequencies between -100KHz to 100KHz. To design the filter, we will use the function `signal.firwin` (We will talk more about this filter design technique later in class -- but in essence the function creates a windowed sinc function with the appropriate bandwidth for the given length). \n",
    "Type `signal.firwin?` and execute to get help. \n",
    "\n",
    "    h = signal.firwin(128,100000.0,nyq=fs/2,window='hanning')\n",
    "\n",
    "- Plot the double-sided magnitude frequency response (log scale using `plt.semilogy`) by computing a zero-padded FFT to length 1024 and using fftshift. Use KHz as the x-axis units. \n",
    "\n",
    "\n"
   ]
  },
  {
   "cell_type": "code",
   "execution_count": null,
   "metadata": {},
   "outputs": [],
   "source": [
    "# Your code here\n"
   ]
  },
  {
   "cell_type": "markdown",
   "metadata": {},
   "source": [
    "Now, filter the acquired SDR signal with the low-pass filter. Use the function `numpy.convolve`. Plot the spectrogram of the filtered signal. "
   ]
  },
  {
   "cell_type": "code",
   "execution_count": null,
   "metadata": {},
   "outputs": [],
   "source": [
    "# Your code here\n"
   ]
  },
  {
   "cell_type": "markdown",
   "metadata": {},
   "source": [
    "Our signal is now bandlimited with a bandwidth of 200KHz out of 960KHz. We can now downsample the signal to reduce computation without aliasing. \n",
    "\n",
    "- Decimate the signal by a factor of 4 by selecting every 4th sample, to get a signal representing a rate of 240KHz. After that, you have successfully implemented a downsampler through low-pass filtering and decimation! \n",
    "\n",
    "- Plot the spectrogram with a window size of 512. Remember to use the new sampling factor `fs/4.0` for the spectrogram.\n",
    "- Do you see the rolloff of the low-pass fiter? Is there aliasing?\n"
   ]
  },
  {
   "cell_type": "code",
   "execution_count": null,
   "metadata": {
    "scrolled": true
   },
   "outputs": [],
   "source": [
    "# Your code here\n"
   ]
  },
  {
   "cell_type": "markdown",
   "metadata": {},
   "source": [
    "Now that you have gone through this processing with 1/2 a second worth of data.  We will acquire a longer segment, which will allow you to appreciate the audio that comes out of it once we demodulate it \n",
    "\n",
    "- Acquire 960000*8 samples, which is 8 seconds of data\n",
    "- Filter and decimate (hence downsample) to the rate of 240KHz. Store the filtered decimated signal in the variable ``data_f``\n",
    "- Plot the spectrogram ** of the 1st second ** i.e., of the first 240000 samples. \n"
   ]
  },
  {
   "cell_type": "code",
   "execution_count": null,
   "metadata": {},
   "outputs": [],
   "source": [
    "fs = 960000\n",
    "fc = 94.1e6\n",
    "sdr = RtlSdr()\n",
    "sdr.sample_rate = fs    # sampling rate\n",
    "sdr.center_freq = fc   # center frequency\n",
    "sdr.gain = SET ME\n",
    "N_Samples = 960000*8\n",
    "data = sdr.read_samples(N_Samples)   # get samples\n",
    "sdr.close()\n",
    "\n"
   ]
  },
  {
   "cell_type": "markdown",
   "metadata": {},
   "source": [
    "If you are having a hard time getting a good signal, your course staff collected 6 seconds of strong signal for you which you can use to test your code. When you submit, please submit with your own data collection.\n",
    "\n",
    "One important difference between this data and the data you will collect is the SDR used has a 12-bit ADC and higher sampling rate (downsampled to match what you receive from the RTL-SDR), compared to 8-bits on your RTL-SDR. This means the ADC can represent up to 24 dB more dynamic range, and the process of downsampling can increase this value further. The limited dynamic range of your SDR means that the strong KPFA main broadcast can swamp the narrow and low power subcarrier signals. You may notice when listening to the audio later in the lab that when the KPFA broadcast is louder the subcarriers are noisier. Having a larger dynamic range means that the subcarriers are better represented in the provided recording and should be clearer when you listen to them."
   ]
  },
  {
   "cell_type": "code",
   "execution_count": 1,
   "metadata": {},
   "outputs": [],
   "source": [
    "# Data collected with a 12-bit ADC\n",
    "# data = np.load(\"kpfa_12bit.npy\")"
   ]
  },
  {
   "cell_type": "code",
   "execution_count": null,
   "metadata": {},
   "outputs": [],
   "source": [
    "# Your code here\n"
   ]
  },
  {
   "cell_type": "markdown",
   "metadata": {},
   "source": [
    "#### FM Demodulation:\n",
    "\n",
    "The plot does not resemble the broadcast FM spectrum figure above, since it is not yet FM demodulated. We can easily see that the signal is frequency modulated -- because its frequency looks like the time-signal of  speech or music.\n",
    "\n",
    "The next step we are going to perform is to demodulate the FM signal and look at its spectrogram. For this we need to find the instantaneous frequency as a function of time, which is the time derivative of the phase. Computing the phase and then taking the derivative will be sensitive to phase wraps, which we would like to avoid. \n",
    "\n",
    "\n",
    "Instead, we will take the digital implementation version of the classical FM demodulatation using a limiter, followed by a discriminator. The limiter makes the input have constant amplitude, and the discriminator converts frequency deviations into amplitude modulation. Just as a comment, implementation of an accurate analog disciminator is very difficult whereas implementing a digital one is ridiculously easy!\n",
    "\n",
    "##### Limiter\n",
    "Recall that $y_b(t) = A(t)e^{ j2\\pi (f_c-f_d) t + j2\\pi \\Delta f \\int_0^t x(\\tau) d\\tau }.$ The leading coefficient $A(t)$ is some unwanted amplitude modulation, which can be a result of signal fading or other sources of signal variations. The role of the limiter component in an FM radio is to remove this amplitude modulation so the discriminator will only be sensitive to frequency variations. \n",
    "\n",
    "In the digital domain, implementing a limiter is done by simply dividing our signal by its amplitude. \n",
    "\n",
    "- Apply a limiter to your signal. To avoid dividing by 0, divide your signal by its amplitude plus epsilon, where epsilon = 1e-6 is adequate. Store the result in the same variable ``data_f`` to reduce memory footprint\n",
    "\n",
    "\n"
   ]
  },
  {
   "cell_type": "code",
   "execution_count": null,
   "metadata": {},
   "outputs": [],
   "source": [
    "# Your code here\n"
   ]
  },
  {
   "cell_type": "markdown",
   "metadata": {},
   "source": [
    "##### Discriminator\n",
    "Assuming that $f_c=f_d$, after the limiter our signal is $ y_b(t)=e^{ j2\\pi \\Delta f \\int_0^t x(\\tau) d\\tau }.$ To get $x(t)$ we can compute:\n",
    "\n",
    "$$\\left(\\frac{d}{dt}y_b(t)\\right)y_b^*(t) = j2\\pi\\Delta f \\cdot x(t)\\cdot e^{ j2\\pi \\Delta f \\int_0^t x(\\tau) d\\tau }\\cdot e^{  -j2\\pi \\Delta f \\int_0^t x(\\tau) d\\tau } = j2\\pi\\Delta f \\cdot x(t)$$\n",
    "\n",
    "Which gives us our desired signal when we take the imaginary part of the result. \n",
    "\n",
    "\n",
    "We will need to design a differentiator filter whose frequency response approximates the ideal frequency response, $H_{diff}(e^{j\\omega}) = \\omega$, of a differentiator. Since we are only going to demodulate up to 105KHz, we can allow the differentiator roll off to zero after that. \n",
    "\n",
    "- Design an FIR differentiator filter with length 31 using the function `signal.remez` which implements an equi-ripple min-max optimal filter design technique. It requires prescribing frequency bands and their corresponding frequency responses. We need to tell the function that it's a differentiator so it knows to match a linear frequency response within the band of interest. We will prescribe a linear frequency extending from 0-110KHz and then tapering to zero at the Nyquist frequency 120KHz. As we will learn later in class, since the filter is of even order (odd number of coefficients) and is antisymmetric, its Nyquist frequency must be zero!\n",
    "\n",
    "Type `signal.remez?` for more information.\n",
    "\n",
    "Specifically: \n",
    "\n",
    "    h_diff = signal.remez(31,[0.0,105000.0,120000.0,120000.0],[1.05/1.2,0],Hz = 240000.0, type='differentiator')\n",
    "    \n",
    "will try to get a linear frequency response from 0-105000 and zero amplitude at 120000.\n",
    "\n",
    "- Plot the filter and its two sided magnitude frequency response (linear scale, compute a zero-padded FFT to length 1024 and use fftshift).\n",
    "\n",
    "\n"
   ]
  },
  {
   "cell_type": "code",
   "execution_count": null,
   "metadata": {},
   "outputs": [],
   "source": [
    "# Your code here\n",
    "\n"
   ]
  },
  {
   "cell_type": "markdown",
   "metadata": {},
   "source": [
    "Demodulate the FM signal by:\n",
    "- Filtering the signal with the differentiator \n",
    "- Multiplying the result with the conjugate of the original signal\n",
    "- Taking the imaginary component\n",
    "\n",
    "Note, that the default implementation of `np.convolve` will have a delay of 16 samples with respect to the original signal. **To avoid that, use the option `mode='same'`.**\n",
    "\n",
    "Note that after FM demodulation the signal should be real (by taking only the imaginary component) and hence only half the spectrum should be displayed. \n",
    "\n",
    "- Plot the spectrogram of the frequency demodulated signal and identify the mono audio, the pilot, the stereo and the RBDS signals. Note, that the RBDS signal may be too weak to detect or may need better spectral resolution. Can you identify the subcarriers? KPFA has two subcarriers, one plays French Hatian radio and the other Punjabi. "
   ]
  },
  {
   "cell_type": "code",
   "execution_count": null,
   "metadata": {},
   "outputs": [],
   "source": [
    "# Your code here\n"
   ]
  },
  {
   "cell_type": "markdown",
   "metadata": {},
   "source": [
    "#### Play the mono  (Left  + Right Channel)\n",
    "\n",
    "\n",
    "The mono signal covers the frequency range of 30Hz-16KHz. However, there are many other signals present. There's another problem. Our sampled signal is at a rate of 240KHz. The soundcard on most modern computers can only deal with a sampling rate of 48KHz. Similarly to the downsampling operation we did before, filter our signal and decimate it before being able to play it. \n",
    "\n",
    "- Design a 64 length FIR  Bandpass filter with a cuttoff frequency of 16KHz using the command:\n",
    "\n",
    "    h = signal.firwin(129,16000.0,nyq=240000.0/2, window='hanning')\n",
    "\n",
    "- Filter the signal and decimate by a factor of 5 to reduce the rate to 48KHz. Store the result in the a variable called `LPR` (Left + Right). Display the spectrogram of the `LPR`. Use a window length of 256. \n",
    "\n",
    "\n",
    "\n"
   ]
  },
  {
   "cell_type": "code",
   "execution_count": null,
   "metadata": {},
   "outputs": [],
   "source": [
    "# Your code here\n",
    "\n"
   ]
  },
  {
   "cell_type": "markdown",
   "metadata": {},
   "source": [
    "#### Playing the Mono (Left + Right channel)\n",
    "\n",
    "- Normalize `LPR` so it is in the range between -1 and 1. \n",
    "- Play it. \n",
    "\n",
    "Do you hear radio?\n",
    "\n"
   ]
  },
  {
   "cell_type": "code",
   "execution_count": null,
   "metadata": {},
   "outputs": [],
   "source": [
    "# Your code below:\n",
    "\n",
    "\n",
    "sd.play(LPR,48000,blocking=True)\n"
   ]
  },
  {
   "cell_type": "code",
   "execution_count": null,
   "metadata": {},
   "outputs": [],
   "source": [
    "# Write to wav file\n",
    "write('fm_LR.wav', 48000, LPR)"
   ]
  },
  {
   "cell_type": "markdown",
   "metadata": {},
   "source": [
    "#### Demodulating the subcarriers\n",
    "\n",
    "There are two other signals in the spectrum, centered at 67 kHz, and 92 kHz. These are subsidiary communications authorization (SCA) services. The FCC specifically doesn't regulate the FM band from 57 kHz up to 100 kHz, only requiring that whatever you transmit there doesn't interfere with the principle FM signal. For a long time this extra spectrum was used for Muzak (a generic name for elevator music), and other targeted FM signals. This has become less common with the advent of the internet, but there are still stations that use these channels. KPFA transmits a Hatian-French subchannel at 67 kHz, and a Punjabi subchannel at 92 kHz.\n",
    "\n",
    "Oddly enough, the subchannels themselves are FM encoded. This is like the Russian Matrushka dolls, with one inside another. Fortunately, you have all the tools you need to decode these signals! \n",
    "\n",
    "First, demodulate the subcarrier to baseband. We will then low-pass to separate it from the other signals. Then, we will then downsample it to 48KHz, and then frequency demodulate again using the technique described above.\n",
    "\n",
    "The entire system is described in the following diagram:\n",
    "\n",
    "<center><img src=\"fmdemod_sc.png\" alt=\"FM\" style=\"width: 800px;\"/></center>\n"
   ]
  },
  {
   "cell_type": "markdown",
   "metadata": {},
   "source": [
    "To demodulate the subcarrier to baseband -- or zero frequency we will need to:\n",
    "\n",
    "1. create a time index `t` representing the samples of the signal\n",
    "2. multiply the frequency demodulated signal in Task 5 with $e^{-j2\\pi f_0 t}$ \n",
    "\n",
    "Task: Demodulate the frequency demodulated signal in Task 5 by $f_0=67.65$KHz and plot the spectrogram. Since the signal is now complex, you should plot both sides of the spectrum. The subcarrier should be placed at the DC frequency."
   ]
  },
  {
   "cell_type": "code",
   "execution_count": null,
   "metadata": {},
   "outputs": [],
   "source": [
    "# your code here\n",
    "\n"
   ]
  },
  {
   "cell_type": "markdown",
   "metadata": {},
   "source": [
    "- Design a 129 tap low-pass filter with a bandwidth of $\\pm 6$KHz in the passband. \n",
    "- Filter the signal and decimate by a factor of 5 to get a signal with a sampling rate of 48KHz. \n",
    "- Plot the spectrogram (make sure you adjusted the spectrogram to represent the new sampling rate!). \n",
    "\n",
    "do you see aliasing?"
   ]
  },
  {
   "cell_type": "code",
   "execution_count": null,
   "metadata": {},
   "outputs": [],
   "source": [
    "# Your code here\n",
    "\n"
   ]
  },
  {
   "cell_type": "markdown",
   "metadata": {},
   "source": [
    "To frequency demodulate, you will need to apply a limiter as before. The discriminator should be implemented in the same way as before. However, you need to design a new filter which approximates a differentiator between $\\pm$8KHz and then tapers to zero. Here's an example:\n",
    "\n",
    "    h_diff = signal.remez(31,[0.0,8000.0,12000.0,24000],[8.0/24.0,0],Hz = 48000, type='differentiator')\n",
    "\n",
    "- Perform the limiter operation\n",
    "- Apply the discriminator using the differentiator filter method. \n",
    "- Low-pass the result with a 129 length FIR filter with cutoff of 5KHz to eliminate any residual high frequency noise. Don't forget that the sample rate is 48KHz! \n",
    "- Scale the result to be within $\\pm1$ and play the audio. \n",
    "- Plot the spectrogram of the resulting signal. \n",
    "\n",
    "Can you hear French Hatian? "
   ]
  },
  {
   "cell_type": "code",
   "execution_count": null,
   "metadata": {},
   "outputs": [],
   "source": [
    "#Your code here:\n",
    "\n",
    "\n",
    "sd.play(subc1_demod,48000,blocking=True)\n",
    "\n",
    "# write('fm_sc.wav', 48000, subc1_demod)\n",
    "\n"
   ]
  },
  {
   "cell_type": "code",
   "execution_count": null,
   "metadata": {},
   "outputs": [],
   "source": [
    "sd.play(subc1_demod,48000,blocking=True)"
   ]
  },
  {
   "cell_type": "markdown",
   "metadata": {},
   "source": [
    "Repeat the procedure to play the subcarrier (Punjabi channel) at $f_0=92$ kHz"
   ]
  },
  {
   "cell_type": "code",
   "execution_count": 1,
   "metadata": {},
   "outputs": [],
   "source": [
    "# Your code here\n",
    "\n",
    "\n",
    "\n",
    "\n",
    "\n",
    "\n",
    "\n",
    "\n",
    "\n",
    "# write('fm_sc2.wav', 48000, subc2_demod)\n"
   ]
  },
  {
   "cell_type": "markdown",
   "metadata": {},
   "source": [
    "In order to listen to the radio continuously, you would have to implement a stream processing using double buffer. The SDR would fill one buffer while your code demodulates the other one. Of course, you would need to process the data faster than the samples come in. Finally, you would also have to implement an overlapp and save/add approach for streaming convolutions so that the sound will not have interruptions or artifacts at the edges of the buffers.\n",
    "\n",
    "Unfortunately, this is hard to implement using python on the raspberry pi -- because of the inefficiencies of the way numpy uses memory. We will do more stream processing when we get to lab 5. "
   ]
  },
  {
   "cell_type": "markdown",
   "metadata": {},
   "source": [
    "### Task 6: Streaming FM audio"
   ]
  },
  {
   "cell_type": "markdown",
   "metadata": {},
   "source": [
    "#### CSDR\n",
    "Fortunately, there are many people who are passionate about using low cost hardware to play with radio signals.  András Retzler (HA7ILM) created a website called [OpenWebRx](SDR.hu) which lets you view the spectrum at a receiver anywhere in the world over an internet connection. To help demodulate audio he wrote a lightweight but fast signal processing library called CSDR which works by connecting processing blocks sequentially via Unix pipes.\n",
    "\n",
    "We will use CSDR to perform the same signal processing as above to demodulate an FM broadcast, but fast enough to sustain a (mostly) uninterrupted stream. You may wish to look at the readme on the [GitHub page](https://github.com/ha7ilm/csdr) to get an idea of how this works."
   ]
  },
  {
   "cell_type": "markdown",
   "metadata": {},
   "source": [
    "##### Aside: Running shell commands from Jupyter\n",
    "\n",
    "It is possible to run shell (terminal / command line) commands from a Jupyter notebook with a Python kernel by putting \"!\" in front of the command. For example,\n",
    "```\n",
    "!ls\n",
    "```\n",
    "would run `ls` and display the result as the output of the cell.\n",
    "\n",
    "If your shell command is taking too long, or runs forever until interrupted, you can send an interrupt to the process by clicking the \"interrupt the kernel\" button (black square) in the toolbar above."
   ]
  },
  {
   "cell_type": "code",
   "execution_count": null,
   "metadata": {},
   "outputs": [],
   "source": [
    "!ls"
   ]
  },
  {
   "cell_type": "code",
   "execution_count": null,
   "metadata": {},
   "outputs": [],
   "source": [
    "!sleep 10"
   ]
  },
  {
   "cell_type": "markdown",
   "metadata": {},
   "source": [
    "#### Step 1: Acquire samples and decimate to 240kHz\n",
    "\n",
    "The support library for the RTL-SDR dongles that we are using includes a utility for streaming samples to a file or to `stdout` which allows us to stream data into CSDR. The command we will use is\n",
    "```\n",
    "rtl_sdr -s 960000 -f 94100000 -g 0 -n 960000 -\n",
    "```\n",
    "This command sets the sampling rate to 960kHz, the center frequency to 94.1MHz, and uses an automatic gain controller to set the gain based on the signal level. You can also set the gain parameter to whatever you found works best in your code above. The flag `-n 960000` tells the SDR to collect 960000 samples, or 1 second of data. This is usefull for debugging your implementation. For the final streaming radio playback you will want to use `-n 0` or no `-n` flag at all to tell the SDR to stream indefinitely.\n",
    "\n",
    "Once we have a stream of samples, we have to convert them from uint8_t to floats. We do this with \n",
    "```\n",
    "csdr convert_u8_f\n",
    "```\n",
    "\n",
    "The next step in the process is to downsample to 240kHz as above. CSDR has a command which applies a windowed lowpass filter then decimates called `fir_decimate_cc`. It takes three parameters defining the decimation rate, transition bandwidth (in the range 0-0.5), and window to apply (BLACKMAN, HAMMING, or BOX). \n",
    "\n",
    "You can downsample an IQ stream by a factor of, for example, 10 by piping the `rtl_sdr` process together with the downsampler:\n",
    "```\n",
    "rtl_sdr -s 960000 -f 94100000 -g 0 -n 960000- | csdr convert_u8_f | csdr fir_decimate_cc 10 .05 HAMMING\n",
    "```\n",
    "\n",
    "Remember that we want to downsample by 4. You can test whether you are using the correct settings by writing the output of the downsampler to a file, then reading the file and running the rest of your demodulation code on the contents of the file."
   ]
  },
  {
   "cell_type": "code",
   "execution_count": null,
   "metadata": {},
   "outputs": [],
   "source": [
    "# Write to file\n",
    "!rtl_sdr -s 960000 -f 94100000 -g 0 -n 960000 - | csdr convert_u8_f | csdr fir_decimate_cc <rate> <f_cutoff> <window> > downsample.bin"
   ]
  },
  {
   "cell_type": "code",
   "execution_count": null,
   "metadata": {},
   "outputs": [],
   "source": [
    "# Plot the spectrogram of the recording (first second)\n",
    "# CSDR sets the cutoff frequency to exactly the downsampled Nyquist frequency, \n",
    "# so there will be at most a slight reduction in energy near the edges.\n",
    "d_csdr = np.fromfile(\"downsample.bin\", dtype=np.complex64)\n",
    "fig = myspectrogram_hann_ovlp(d_csdr[:240000], 512, 240000, fc, dbf=40)"
   ]
  },
  {
   "cell_type": "markdown",
   "metadata": {},
   "source": [
    "After downsampling, we again want to demodulate. CSDR accomplishes this with a block called `fmdemod_quadri_cf`. This blocks uses a related, but slightly simpler method for demodulation. In order to extract the instantaneous phase of the signal, the demodulator calculates the phase of each sample then uses the previous sample to approximate the rate of change of phase.\n",
    "\n",
    "Look at the [source](https://github.com/ha7ilm/csdr/blob/master/libcsdr.c) line 1024 for the implementation. [https://www.embedded.com/dsp-tricks-frequency-demodulation-algorithms/] has a derivation of how $\\frac{d}{dt}\\left(\\tan^{-1}\\left(\\frac{Q(t)}{I(t)}\\right)\\right)$ becomes the code that you see.\n",
    "\n",
    "When comparing to the differentation (discriminator) you implemented above, notice how your discriminator uses 31 taps but the CSDR code only uses 2. Using fewer taps makes implementing the algorithm easier and more efficient, but the quality of the output is degraded more by noise, since there is no smoothing across multiple samples. This is a tradeoff that occurs over and over again in real systems - implementation ease and efficiency versus performance of the processing algorithm.\n",
    "\n",
    "Store the output of the demodulator to disk and plot the spectrogram."
   ]
  },
  {
   "cell_type": "code",
   "execution_count": null,
   "metadata": {},
   "outputs": [],
   "source": [
    "# Your beautiful command\n",
    "!TODO > demodulate.bin"
   ]
  },
  {
   "cell_type": "code",
   "execution_count": null,
   "metadata": {},
   "outputs": [],
   "source": [
    "# Plot the spectrogram of the recording (first second)\n",
    "# You should see the audio and the 19kHz pilot tones, and possibly the subcarriers.\n",
    "d_csdr = np.fromfile(\"demodulate.bin\", dtype=np.float32)\n",
    "fig = myspectrogram_hann_ovlp(d_csdr[:240000], 512, 240000, 0, dbf=40)"
   ]
  },
  {
   "cell_type": "markdown",
   "metadata": {},
   "source": [
    "Now we again downsample to the mono audio stream, by a factor of 5 to reach 48 kSps for the audio card. This time, because the sample stream is real, we use the `fractional_decimator_ff` command which takes a single argument, the decimation (downsampling) rate. "
   ]
  },
  {
   "cell_type": "code",
   "execution_count": null,
   "metadata": {},
   "outputs": [],
   "source": [
    "# Your beautiful command\n",
    "!TODO > audio_f.bin"
   ]
  },
  {
   "cell_type": "code",
   "execution_count": null,
   "metadata": {
    "scrolled": false
   },
   "outputs": [],
   "source": [
    "# Plot the spectrogram of the recording (first second)\n",
    "d_csdr = np.fromfile(\"audio_f.bin\", dtype=np.float32)\n",
    "fig = myspectrogram_hann_ovlp(d_csdr[:48000], 512, 48000, 0, dbf=40)"
   ]
  },
  {
   "cell_type": "markdown",
   "metadata": {},
   "source": [
    "#### Audio\n",
    "Finally, we output the stream of samples as signed 16-bit ints to the soundcard.\n",
    "```\n",
    "!<your demodulation commands> | csdr convert_f_s16 | aplay -t raw -r 48000 -f s16_le -c 1 -D hw:0,0\n",
    "```\n",
    "Don't forget to change the n-samples flag to infinite: `-n 0`."
   ]
  },
  {
   "cell_type": "code",
   "execution_count": null,
   "metadata": {},
   "outputs": [],
   "source": [
    "# Your audio streaming command\n",
    "!TODO"
   ]
  },
  {
   "cell_type": "markdown",
   "metadata": {},
   "source": [
    "#### Subcarriers\n",
    "If you want to listen to a stream of one of the subcarriers, you need a couple more commands from the CSDR library:\n",
    " - `csdr shift_addition_fc SHIFT` shifts your signal so the subcarrier is centered\n",
    " - `csdr bandpass_fir_fft_cc LOW HIGH TRANSITION_WIDTH WINDOW` applies a bandpass filter to the signal\n",
    " \n",
    "Remember that CSDR functions take arguments as normalized frequencies from -0.5 to 0.5.\n",
    "\n",
    "Now use these functions to demodulate the subcarriers as you did above. Feel free to check intermediate steps by collecting only N samples then plotting the spectrogram as you did above, but your final solution should stream indefinitely to the audio output."
   ]
  },
  {
   "cell_type": "code",
   "execution_count": null,
   "metadata": {},
   "outputs": [],
   "source": [
    "# French Haitian Radio in the upper subcarrier\n",
    "!TODO"
   ]
  },
  {
   "cell_type": "code",
   "execution_count": null,
   "metadata": {
    "scrolled": false
   },
   "outputs": [],
   "source": [
    "# Punjabi Radio in the upper subcarrier\n",
    "!TODO"
   ]
  }
 ],
 "metadata": {
  "kernelspec": {
   "display_name": "Python 3",
   "language": "python",
   "name": "python3"
  },
  "language_info": {
   "codemirror_mode": {
    "name": "ipython",
    "version": 3
   },
   "file_extension": ".py",
   "mimetype": "text/x-python",
   "name": "python",
   "nbconvert_exporter": "python",
   "pygments_lexer": "ipython3",
   "version": "3.6.8"
  }
 },
 "nbformat": 4,
 "nbformat_minor": 1
}
